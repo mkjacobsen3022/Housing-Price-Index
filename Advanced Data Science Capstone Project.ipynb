{
 "cells": [
  {
   "cell_type": "markdown",
   "metadata": {
    "collapsed": true
   },
   "source": [
    "# IBM Coursera Advanced Data Science Capstone - Predicting Average Home Prices in Montgomery County, MD\n",
    "\n",
    "## Matthew Jacobsen\n",
    "\n",
    "### Introduction\n",
    "\n",
    "In this project, I will develop and and evaluate a model for predicting the average housing price in Montgomery County, Maryland.  Why might one care about predicting this?  Well, I'm glad you asked.  Just as with other market predictors, average house price is directly related to local conditions, such as school quality, community services, and health of the local economy.  \n",
    "\n",
    "As such, being able to predict average housing prices and knowing what factors contribute in a given area can help to guide local government decisions in order to maintain a steady population base in their local economy.  For obvious reasons, a steady and high-quality local population base leads to better employers, higher pay, and better tax revenue for improving and maintaining the local economy.  These then spiral upwards (although not forever, most likely).  \n",
    "\n",
    "Based upon this, having a good insight into the factors that matter and having the ability to predict the outcome of various changes, what should we consider in our model? Overall, we will investigate how to employ the following factors as predictors:\n",
    "- counties gross domestic prodcut,\n",
    "- unemployment rate, \n",
    "- welfare recipients, \n",
    "- percent below poverty level, \n",
    "- and per capita income.\n",
    "\n",
    "This is, by no means, intended to be an exhaustive study of factors, but we need a place to start and method to determine quickly what factors matter (and are retained) and which do not appear to impact much (and are therefore dropped).  In the end, this model is intended to be a first step in understanding what factors influence the average home price the most (outside of the obvious individual home prices).  More factors can be added at a later time to develop a more complex model, if desired."
   ]
  },
  {
   "cell_type": "markdown",
   "metadata": {},
   "source": [
    "### Getting the Data and Preprocessing\n",
    "All of the data used in this project was obtained via the Federal Reserve of St. Louis website (FRED), accessible via the following link: \n",
    "\n",
    "https://fred.stlouisfed.org/series/MDMONT0URN?utm_source=series_page&utm_medium=related_content&utm_term=related_resources&utm_campaign=categories\n",
    "\n",
    "Most of this data is, in turn, sourced from various US federal agencies, such as:\n",
    " - U.S. Bureau of Labor Statistics : Unemployment Rate \n",
    " - U.S. Federal Housing Finance Agency : All Transactions House Price Index\n",
    " - U.S. Census Bureau : SNAP Benefit Recipients and Below Poverty Level\n",
    " - U.S. Bureau of Economic Analysis : Gross Domestic Prodcut and Per Capita Personal Income\n",
    "\n",
    "Comprehensive citations for this data are included at the end of this report. The first step, then, is to import and preprocess the data.  "
   ]
  },
  {
   "cell_type": "code",
   "execution_count": 1,
   "metadata": {},
   "outputs": [
    {
     "name": "stdout",
     "output_type": "stream",
     "text": [
      "Waiting for a Spark session to start...\n",
      "Spark Initialization Done! ApplicationId = app-20200108205656-0001\n",
      "KERNEL_ID = 83a035d9-6e97-439e-af4b-82bb004f64c5\n"
     ]
    },
    {
     "data": {
      "text/html": [
       "<div>\n",
       "<style scoped>\n",
       "    .dataframe tbody tr th:only-of-type {\n",
       "        vertical-align: middle;\n",
       "    }\n",
       "\n",
       "    .dataframe tbody tr th {\n",
       "        vertical-align: top;\n",
       "    }\n",
       "\n",
       "    .dataframe thead th {\n",
       "        text-align: right;\n",
       "    }\n",
       "</style>\n",
       "<table border=\"1\" class=\"dataframe\">\n",
       "  <thead>\n",
       "    <tr style=\"text-align: right;\">\n",
       "      <th></th>\n",
       "      <th>date</th>\n",
       "      <th>house_price_index</th>\n",
       "    </tr>\n",
       "  </thead>\n",
       "  <tbody>\n",
       "    <tr>\n",
       "      <th>0</th>\n",
       "      <td>1975-01-01</td>\n",
       "      <td>25.14</td>\n",
       "    </tr>\n",
       "    <tr>\n",
       "      <th>1</th>\n",
       "      <td>1976-01-01</td>\n",
       "      <td>27.19</td>\n",
       "    </tr>\n",
       "    <tr>\n",
       "      <th>2</th>\n",
       "      <td>1977-01-01</td>\n",
       "      <td>29.19</td>\n",
       "    </tr>\n",
       "    <tr>\n",
       "      <th>3</th>\n",
       "      <td>1978-01-01</td>\n",
       "      <td>33.55</td>\n",
       "    </tr>\n",
       "    <tr>\n",
       "      <th>4</th>\n",
       "      <td>1979-01-01</td>\n",
       "      <td>39.10</td>\n",
       "    </tr>\n",
       "  </tbody>\n",
       "</table>\n",
       "</div>"
      ],
      "text/plain": [
       "        date  house_price_index\n",
       "0 1975-01-01              25.14\n",
       "1 1976-01-01              27.19\n",
       "2 1977-01-01              29.19\n",
       "3 1978-01-01              33.55\n",
       "4 1979-01-01              39.10"
      ]
     },
     "execution_count": 1,
     "metadata": {},
     "output_type": "execute_result"
    }
   ],
   "source": [
    "import types\n",
    "import pandas as pd\n",
    "from botocore.client import Config\n",
    "import ibm_boto3\n",
    "\n",
    "def __iter__(self): return 0\n",
    "\n",
    "# @hidden_cell\n",
    "# The following code accesses a file in your IBM Cloud Object Storage. It includes your credentials.\n",
    "# You might want to remove those credentials before you share the notebook.\n",
    "client_ec19ef63971f478aa48a6d1705c7bfa4 = ibm_boto3.client(service_name='s3',\n",
    "    ibm_api_key_id='J92HcoWyO6dRE4hwBAgWc7EzlzPoiar29Si8hS5bLKSc',\n",
    "    ibm_auth_endpoint=\"https://iam.ng.bluemix.net/oidc/token\",\n",
    "    config=Config(signature_version='oauth'),\n",
    "    endpoint_url='https://s3-api.us-geo.objectstorage.service.networklayer.com')\n",
    "\n",
    "body = client_ec19ef63971f478aa48a6d1705c7bfa4.get_object(Bucket='scalablemachinelearning-donotdelete-pr-pqwoskr4xsnfo2',Key='ATNHPIUS24031A.csv')['Body']\n",
    "# add missing __iter__ method, so pandas accepts body as file-like object\n",
    "if not hasattr(body, \"__iter__\"): body.__iter__ = types.MethodType( __iter__, body )\n",
    "\n",
    "df_data_1 = pd.read_csv(body)\n",
    "df_data_1.columns = ['date','house_price_index']\n",
    "df_data_1['date'] = pd.to_datetime(df_data_1['date'])\n",
    "df_data_1.head()"
   ]
  },
  {
   "cell_type": "code",
   "execution_count": 2,
   "metadata": {},
   "outputs": [
    {
     "data": {
      "text/html": [
       "<div>\n",
       "<style scoped>\n",
       "    .dataframe tbody tr th:only-of-type {\n",
       "        vertical-align: middle;\n",
       "    }\n",
       "\n",
       "    .dataframe tbody tr th {\n",
       "        vertical-align: top;\n",
       "    }\n",
       "\n",
       "    .dataframe thead th {\n",
       "        text-align: right;\n",
       "    }\n",
       "</style>\n",
       "<table border=\"1\" class=\"dataframe\">\n",
       "  <thead>\n",
       "    <tr style=\"text-align: right;\">\n",
       "      <th></th>\n",
       "      <th>date</th>\n",
       "      <th>num_snap_recipients</th>\n",
       "    </tr>\n",
       "  </thead>\n",
       "  <tbody>\n",
       "    <tr>\n",
       "      <th>0</th>\n",
       "      <td>1989-01-01</td>\n",
       "      <td>12004</td>\n",
       "    </tr>\n",
       "    <tr>\n",
       "      <th>1</th>\n",
       "      <td>1990-01-01</td>\n",
       "      <td>.</td>\n",
       "    </tr>\n",
       "    <tr>\n",
       "      <th>2</th>\n",
       "      <td>1991-01-01</td>\n",
       "      <td>.</td>\n",
       "    </tr>\n",
       "    <tr>\n",
       "      <th>3</th>\n",
       "      <td>1992-01-01</td>\n",
       "      <td>.</td>\n",
       "    </tr>\n",
       "    <tr>\n",
       "      <th>4</th>\n",
       "      <td>1993-01-01</td>\n",
       "      <td>22430</td>\n",
       "    </tr>\n",
       "  </tbody>\n",
       "</table>\n",
       "</div>"
      ],
      "text/plain": [
       "        date num_snap_recipients\n",
       "0 1989-01-01               12004\n",
       "1 1990-01-01                   .\n",
       "2 1991-01-01                   .\n",
       "3 1992-01-01                   .\n",
       "4 1993-01-01               22430"
      ]
     },
     "execution_count": 2,
     "metadata": {},
     "output_type": "execute_result"
    }
   ],
   "source": [
    "body = client_ec19ef63971f478aa48a6d1705c7bfa4.get_object(Bucket='scalablemachinelearning-donotdelete-pr-pqwoskr4xsnfo2',Key='CBR24031MDA647NCEN.csv')['Body']\n",
    "# add missing __iter__ method, so pandas accepts body as file-like object\n",
    "if not hasattr(body, \"__iter__\"): body.__iter__ = types.MethodType( __iter__, body )\n",
    "\n",
    "df_data_2 = pd.read_csv(body)\n",
    "df_data_2.columns = ['date','num_snap_recipients']\n",
    "df_data_2['date'] = pd.to_datetime(df_data_2['date'])\n",
    "df_data_2.head()"
   ]
  },
  {
   "cell_type": "code",
   "execution_count": 3,
   "metadata": {},
   "outputs": [
    {
     "data": {
      "text/html": [
       "<div>\n",
       "<style scoped>\n",
       "    .dataframe tbody tr th:only-of-type {\n",
       "        vertical-align: middle;\n",
       "    }\n",
       "\n",
       "    .dataframe tbody tr th {\n",
       "        vertical-align: top;\n",
       "    }\n",
       "\n",
       "    .dataframe thead th {\n",
       "        text-align: right;\n",
       "    }\n",
       "</style>\n",
       "<table border=\"1\" class=\"dataframe\">\n",
       "  <thead>\n",
       "    <tr style=\"text-align: right;\">\n",
       "      <th></th>\n",
       "      <th>date</th>\n",
       "      <th>gross_domestic_product</th>\n",
       "    </tr>\n",
       "  </thead>\n",
       "  <tbody>\n",
       "    <tr>\n",
       "      <th>0</th>\n",
       "      <td>2001-01-01</td>\n",
       "      <td>47316744</td>\n",
       "    </tr>\n",
       "    <tr>\n",
       "      <th>1</th>\n",
       "      <td>2002-01-01</td>\n",
       "      <td>50270560</td>\n",
       "    </tr>\n",
       "    <tr>\n",
       "      <th>2</th>\n",
       "      <td>2003-01-01</td>\n",
       "      <td>53335659</td>\n",
       "    </tr>\n",
       "    <tr>\n",
       "      <th>3</th>\n",
       "      <td>2004-01-01</td>\n",
       "      <td>58692398</td>\n",
       "    </tr>\n",
       "    <tr>\n",
       "      <th>4</th>\n",
       "      <td>2005-01-01</td>\n",
       "      <td>63707710</td>\n",
       "    </tr>\n",
       "  </tbody>\n",
       "</table>\n",
       "</div>"
      ],
      "text/plain": [
       "        date  gross_domestic_product\n",
       "0 2001-01-01                47316744\n",
       "1 2002-01-01                50270560\n",
       "2 2003-01-01                53335659\n",
       "3 2004-01-01                58692398\n",
       "4 2005-01-01                63707710"
      ]
     },
     "execution_count": 3,
     "metadata": {},
     "output_type": "execute_result"
    }
   ],
   "source": [
    "body = client_ec19ef63971f478aa48a6d1705c7bfa4.get_object(Bucket='scalablemachinelearning-donotdelete-pr-pqwoskr4xsnfo2',Key='GDPALL24031.csv')['Body']\n",
    "# add missing __iter__ method, so pandas accepts body as file-like object\n",
    "if not hasattr(body, \"__iter__\"): body.__iter__ = types.MethodType( __iter__, body )\n",
    "\n",
    "df_data_3 = pd.read_csv(body)\n",
    "df_data_3.columns = ['date','gross_domestic_product']\n",
    "df_data_3['date'] = pd.to_datetime(df_data_3['date'])\n",
    "df_data_3.head()"
   ]
  },
  {
   "cell_type": "code",
   "execution_count": 4,
   "metadata": {},
   "outputs": [
    {
     "data": {
      "text/html": [
       "<div>\n",
       "<style scoped>\n",
       "    .dataframe tbody tr th:only-of-type {\n",
       "        vertical-align: middle;\n",
       "    }\n",
       "\n",
       "    .dataframe tbody tr th {\n",
       "        vertical-align: top;\n",
       "    }\n",
       "\n",
       "    .dataframe thead th {\n",
       "        text-align: right;\n",
       "    }\n",
       "</style>\n",
       "<table border=\"1\" class=\"dataframe\">\n",
       "  <thead>\n",
       "    <tr style=\"text-align: right;\">\n",
       "      <th></th>\n",
       "      <th>date</th>\n",
       "      <th>per_capita_personal_income</th>\n",
       "    </tr>\n",
       "  </thead>\n",
       "  <tbody>\n",
       "    <tr>\n",
       "      <th>0</th>\n",
       "      <td>1969-01-01</td>\n",
       "      <td>6454</td>\n",
       "    </tr>\n",
       "    <tr>\n",
       "      <th>1</th>\n",
       "      <td>1970-01-01</td>\n",
       "      <td>7185</td>\n",
       "    </tr>\n",
       "    <tr>\n",
       "      <th>2</th>\n",
       "      <td>1971-01-01</td>\n",
       "      <td>7861</td>\n",
       "    </tr>\n",
       "    <tr>\n",
       "      <th>3</th>\n",
       "      <td>1972-01-01</td>\n",
       "      <td>8279</td>\n",
       "    </tr>\n",
       "    <tr>\n",
       "      <th>4</th>\n",
       "      <td>1973-01-01</td>\n",
       "      <td>8954</td>\n",
       "    </tr>\n",
       "  </tbody>\n",
       "</table>\n",
       "</div>"
      ],
      "text/plain": [
       "        date  per_capita_personal_income\n",
       "0 1969-01-01                        6454\n",
       "1 1970-01-01                        7185\n",
       "2 1971-01-01                        7861\n",
       "3 1972-01-01                        8279\n",
       "4 1973-01-01                        8954"
      ]
     },
     "execution_count": 4,
     "metadata": {},
     "output_type": "execute_result"
    }
   ],
   "source": [
    "body = client_ec19ef63971f478aa48a6d1705c7bfa4.get_object(Bucket='scalablemachinelearning-donotdelete-pr-pqwoskr4xsnfo2',Key='PCPI24031.csv')['Body']\n",
    "# add missing __iter__ method, so pandas accepts body as file-like object\n",
    "if not hasattr(body, \"__iter__\"): body.__iter__ = types.MethodType( __iter__, body )\n",
    "\n",
    "df_data_4 = pd.read_csv(body)\n",
    "df_data_4.columns = ['date','per_capita_personal_income']\n",
    "df_data_4['date'] = pd.to_datetime(df_data_4['date'])\n",
    "df_data_4.head()"
   ]
  },
  {
   "cell_type": "code",
   "execution_count": 5,
   "metadata": {},
   "outputs": [
    {
     "data": {
      "text/html": [
       "<div>\n",
       "<style scoped>\n",
       "    .dataframe tbody tr th:only-of-type {\n",
       "        vertical-align: middle;\n",
       "    }\n",
       "\n",
       "    .dataframe tbody tr th {\n",
       "        vertical-align: top;\n",
       "    }\n",
       "\n",
       "    .dataframe thead th {\n",
       "        text-align: right;\n",
       "    }\n",
       "</style>\n",
       "<table border=\"1\" class=\"dataframe\">\n",
       "  <thead>\n",
       "    <tr style=\"text-align: right;\">\n",
       "      <th></th>\n",
       "      <th>date</th>\n",
       "      <th>percent_below_pl</th>\n",
       "    </tr>\n",
       "  </thead>\n",
       "  <tbody>\n",
       "    <tr>\n",
       "      <th>0</th>\n",
       "      <td>2012-01-01</td>\n",
       "      <td>6.5</td>\n",
       "    </tr>\n",
       "    <tr>\n",
       "      <th>1</th>\n",
       "      <td>2013-01-01</td>\n",
       "      <td>6.7</td>\n",
       "    </tr>\n",
       "    <tr>\n",
       "      <th>2</th>\n",
       "      <td>2014-01-01</td>\n",
       "      <td>6.9</td>\n",
       "    </tr>\n",
       "    <tr>\n",
       "      <th>3</th>\n",
       "      <td>2015-01-01</td>\n",
       "      <td>6.7</td>\n",
       "    </tr>\n",
       "    <tr>\n",
       "      <th>4</th>\n",
       "      <td>2016-01-01</td>\n",
       "      <td>6.9</td>\n",
       "    </tr>\n",
       "  </tbody>\n",
       "</table>\n",
       "</div>"
      ],
      "text/plain": [
       "        date  percent_below_pl\n",
       "0 2012-01-01               6.5\n",
       "1 2013-01-01               6.7\n",
       "2 2014-01-01               6.9\n",
       "3 2015-01-01               6.7\n",
       "4 2016-01-01               6.9"
      ]
     },
     "execution_count": 5,
     "metadata": {},
     "output_type": "execute_result"
    }
   ],
   "source": [
    "body = client_ec19ef63971f478aa48a6d1705c7bfa4.get_object(Bucket='scalablemachinelearning-donotdelete-pr-pqwoskr4xsnfo2',Key='S1701ACS024031.csv')['Body']\n",
    "# add missing __iter__ method, so pandas accepts body as file-like object\n",
    "if not hasattr(body, \"__iter__\"): body.__iter__ = types.MethodType( __iter__, body )\n",
    "\n",
    "df_data_5 = pd.read_csv(body)\n",
    "df_data_5.columns = ['date','percent_below_pl']\n",
    "df_data_5['date'] = pd.to_datetime(df_data_5['date'])\n",
    "df_data_5.head()"
   ]
  },
  {
   "cell_type": "code",
   "execution_count": 6,
   "metadata": {},
   "outputs": [
    {
     "data": {
      "text/html": [
       "<div>\n",
       "<style scoped>\n",
       "    .dataframe tbody tr th:only-of-type {\n",
       "        vertical-align: middle;\n",
       "    }\n",
       "\n",
       "    .dataframe tbody tr th {\n",
       "        vertical-align: top;\n",
       "    }\n",
       "\n",
       "    .dataframe thead th {\n",
       "        text-align: right;\n",
       "    }\n",
       "</style>\n",
       "<table border=\"1\" class=\"dataframe\">\n",
       "  <thead>\n",
       "    <tr style=\"text-align: right;\">\n",
       "      <th></th>\n",
       "      <th>date</th>\n",
       "      <th>unemployment_rate_percent</th>\n",
       "    </tr>\n",
       "  </thead>\n",
       "  <tbody>\n",
       "    <tr>\n",
       "      <th>0</th>\n",
       "      <td>1990-01-01</td>\n",
       "      <td>1.9</td>\n",
       "    </tr>\n",
       "    <tr>\n",
       "      <th>1</th>\n",
       "      <td>1990-02-01</td>\n",
       "      <td>2.0</td>\n",
       "    </tr>\n",
       "    <tr>\n",
       "      <th>2</th>\n",
       "      <td>1990-03-01</td>\n",
       "      <td>1.8</td>\n",
       "    </tr>\n",
       "    <tr>\n",
       "      <th>3</th>\n",
       "      <td>1990-04-01</td>\n",
       "      <td>1.9</td>\n",
       "    </tr>\n",
       "    <tr>\n",
       "      <th>4</th>\n",
       "      <td>1990-05-01</td>\n",
       "      <td>2.1</td>\n",
       "    </tr>\n",
       "  </tbody>\n",
       "</table>\n",
       "</div>"
      ],
      "text/plain": [
       "        date  unemployment_rate_percent\n",
       "0 1990-01-01                        1.9\n",
       "1 1990-02-01                        2.0\n",
       "2 1990-03-01                        1.8\n",
       "3 1990-04-01                        1.9\n",
       "4 1990-05-01                        2.1"
      ]
     },
     "execution_count": 6,
     "metadata": {},
     "output_type": "execute_result"
    }
   ],
   "source": [
    "body = client_ec19ef63971f478aa48a6d1705c7bfa4.get_object(Bucket='scalablemachinelearning-donotdelete-pr-pqwoskr4xsnfo2',Key='MDMONT0URN.csv')['Body']\n",
    "# add missing __iter__ method, so pandas accepts body as file-like object\n",
    "if not hasattr(body, \"__iter__\"): body.__iter__ = types.MethodType( __iter__, body )\n",
    "\n",
    "# If you are reading an Excel file into a pandas DataFrame, replace `read_csv` by `read_excel` in the next statement.\n",
    "df_data_0 = pd.read_csv(body)\n",
    "df_data_0.columns = ['date','unemployment_rate_percent']\n",
    "df_data_0['date'] = pd.to_datetime(df_data_0['date'])\n",
    "df_data_0.head()"
   ]
  },
  {
   "cell_type": "markdown",
   "metadata": {},
   "source": [
    "Now that we have cleaned and (mostly) normalized the data, we need to merge it together and interpolate values where there currently are none.  By inspection, a monthly dataset it likely to be the most useful if there are nuanced changes.  Therefore, we are mapping to the unemployment rate dataframe and will then interpolate annual data to monthly changes. "
   ]
  },
  {
   "cell_type": "code",
   "execution_count": 7,
   "metadata": {},
   "outputs": [
    {
     "data": {
      "text/html": [
       "<div>\n",
       "<style scoped>\n",
       "    .dataframe tbody tr th:only-of-type {\n",
       "        vertical-align: middle;\n",
       "    }\n",
       "\n",
       "    .dataframe tbody tr th {\n",
       "        vertical-align: top;\n",
       "    }\n",
       "\n",
       "    .dataframe thead th {\n",
       "        text-align: right;\n",
       "    }\n",
       "</style>\n",
       "<table border=\"1\" class=\"dataframe\">\n",
       "  <thead>\n",
       "    <tr style=\"text-align: right;\">\n",
       "      <th></th>\n",
       "      <th>date</th>\n",
       "      <th>unemployment_rate_percent</th>\n",
       "      <th>house_price_index</th>\n",
       "      <th>num_snap_recipients</th>\n",
       "      <th>gross_domestic_product</th>\n",
       "      <th>per_capita_personal_income</th>\n",
       "      <th>percent_below_pl</th>\n",
       "    </tr>\n",
       "  </thead>\n",
       "  <tbody>\n",
       "    <tr>\n",
       "      <th>0</th>\n",
       "      <td>1990-01-01</td>\n",
       "      <td>1.9</td>\n",
       "      <td>86.19</td>\n",
       "      <td>.</td>\n",
       "      <td>NaN</td>\n",
       "      <td>32484.0</td>\n",
       "      <td>NaN</td>\n",
       "    </tr>\n",
       "    <tr>\n",
       "      <th>1</th>\n",
       "      <td>1990-02-01</td>\n",
       "      <td>2.0</td>\n",
       "      <td>NaN</td>\n",
       "      <td>NaN</td>\n",
       "      <td>NaN</td>\n",
       "      <td>NaN</td>\n",
       "      <td>NaN</td>\n",
       "    </tr>\n",
       "    <tr>\n",
       "      <th>2</th>\n",
       "      <td>1990-03-01</td>\n",
       "      <td>1.8</td>\n",
       "      <td>NaN</td>\n",
       "      <td>NaN</td>\n",
       "      <td>NaN</td>\n",
       "      <td>NaN</td>\n",
       "      <td>NaN</td>\n",
       "    </tr>\n",
       "    <tr>\n",
       "      <th>3</th>\n",
       "      <td>1990-04-01</td>\n",
       "      <td>1.9</td>\n",
       "      <td>NaN</td>\n",
       "      <td>NaN</td>\n",
       "      <td>NaN</td>\n",
       "      <td>NaN</td>\n",
       "      <td>NaN</td>\n",
       "    </tr>\n",
       "    <tr>\n",
       "      <th>4</th>\n",
       "      <td>1990-05-01</td>\n",
       "      <td>2.1</td>\n",
       "      <td>NaN</td>\n",
       "      <td>NaN</td>\n",
       "      <td>NaN</td>\n",
       "      <td>NaN</td>\n",
       "      <td>NaN</td>\n",
       "    </tr>\n",
       "    <tr>\n",
       "      <th>5</th>\n",
       "      <td>1990-06-01</td>\n",
       "      <td>2.5</td>\n",
       "      <td>NaN</td>\n",
       "      <td>NaN</td>\n",
       "      <td>NaN</td>\n",
       "      <td>NaN</td>\n",
       "      <td>NaN</td>\n",
       "    </tr>\n",
       "    <tr>\n",
       "      <th>6</th>\n",
       "      <td>1990-07-01</td>\n",
       "      <td>2.5</td>\n",
       "      <td>NaN</td>\n",
       "      <td>NaN</td>\n",
       "      <td>NaN</td>\n",
       "      <td>NaN</td>\n",
       "      <td>NaN</td>\n",
       "    </tr>\n",
       "    <tr>\n",
       "      <th>7</th>\n",
       "      <td>1990-08-01</td>\n",
       "      <td>2.6</td>\n",
       "      <td>NaN</td>\n",
       "      <td>NaN</td>\n",
       "      <td>NaN</td>\n",
       "      <td>NaN</td>\n",
       "      <td>NaN</td>\n",
       "    </tr>\n",
       "    <tr>\n",
       "      <th>8</th>\n",
       "      <td>1990-09-01</td>\n",
       "      <td>2.8</td>\n",
       "      <td>NaN</td>\n",
       "      <td>NaN</td>\n",
       "      <td>NaN</td>\n",
       "      <td>NaN</td>\n",
       "      <td>NaN</td>\n",
       "    </tr>\n",
       "    <tr>\n",
       "      <th>9</th>\n",
       "      <td>1990-10-01</td>\n",
       "      <td>2.8</td>\n",
       "      <td>NaN</td>\n",
       "      <td>NaN</td>\n",
       "      <td>NaN</td>\n",
       "      <td>NaN</td>\n",
       "      <td>NaN</td>\n",
       "    </tr>\n",
       "    <tr>\n",
       "      <th>10</th>\n",
       "      <td>1990-11-01</td>\n",
       "      <td>3.0</td>\n",
       "      <td>NaN</td>\n",
       "      <td>NaN</td>\n",
       "      <td>NaN</td>\n",
       "      <td>NaN</td>\n",
       "      <td>NaN</td>\n",
       "    </tr>\n",
       "    <tr>\n",
       "      <th>11</th>\n",
       "      <td>1990-12-01</td>\n",
       "      <td>2.9</td>\n",
       "      <td>NaN</td>\n",
       "      <td>NaN</td>\n",
       "      <td>NaN</td>\n",
       "      <td>NaN</td>\n",
       "      <td>NaN</td>\n",
       "    </tr>\n",
       "    <tr>\n",
       "      <th>12</th>\n",
       "      <td>1991-01-01</td>\n",
       "      <td>3.0</td>\n",
       "      <td>86.18</td>\n",
       "      <td>.</td>\n",
       "      <td>NaN</td>\n",
       "      <td>33294.0</td>\n",
       "      <td>NaN</td>\n",
       "    </tr>\n",
       "    <tr>\n",
       "      <th>13</th>\n",
       "      <td>1991-02-01</td>\n",
       "      <td>3.3</td>\n",
       "      <td>NaN</td>\n",
       "      <td>NaN</td>\n",
       "      <td>NaN</td>\n",
       "      <td>NaN</td>\n",
       "      <td>NaN</td>\n",
       "    </tr>\n",
       "    <tr>\n",
       "      <th>14</th>\n",
       "      <td>1991-03-01</td>\n",
       "      <td>3.2</td>\n",
       "      <td>NaN</td>\n",
       "      <td>NaN</td>\n",
       "      <td>NaN</td>\n",
       "      <td>NaN</td>\n",
       "      <td>NaN</td>\n",
       "    </tr>\n",
       "    <tr>\n",
       "      <th>15</th>\n",
       "      <td>1991-04-01</td>\n",
       "      <td>3.0</td>\n",
       "      <td>NaN</td>\n",
       "      <td>NaN</td>\n",
       "      <td>NaN</td>\n",
       "      <td>NaN</td>\n",
       "      <td>NaN</td>\n",
       "    </tr>\n",
       "    <tr>\n",
       "      <th>16</th>\n",
       "      <td>1991-05-01</td>\n",
       "      <td>3.3</td>\n",
       "      <td>NaN</td>\n",
       "      <td>NaN</td>\n",
       "      <td>NaN</td>\n",
       "      <td>NaN</td>\n",
       "      <td>NaN</td>\n",
       "    </tr>\n",
       "    <tr>\n",
       "      <th>17</th>\n",
       "      <td>1991-06-01</td>\n",
       "      <td>3.5</td>\n",
       "      <td>NaN</td>\n",
       "      <td>NaN</td>\n",
       "      <td>NaN</td>\n",
       "      <td>NaN</td>\n",
       "      <td>NaN</td>\n",
       "    </tr>\n",
       "    <tr>\n",
       "      <th>18</th>\n",
       "      <td>1991-07-01</td>\n",
       "      <td>3.3</td>\n",
       "      <td>NaN</td>\n",
       "      <td>NaN</td>\n",
       "      <td>NaN</td>\n",
       "      <td>NaN</td>\n",
       "      <td>NaN</td>\n",
       "    </tr>\n",
       "    <tr>\n",
       "      <th>19</th>\n",
       "      <td>1991-08-01</td>\n",
       "      <td>3.3</td>\n",
       "      <td>NaN</td>\n",
       "      <td>NaN</td>\n",
       "      <td>NaN</td>\n",
       "      <td>NaN</td>\n",
       "      <td>NaN</td>\n",
       "    </tr>\n",
       "  </tbody>\n",
       "</table>\n",
       "</div>"
      ],
      "text/plain": [
       "         date  unemployment_rate_percent  house_price_index  \\\n",
       "0  1990-01-01                        1.9              86.19   \n",
       "1  1990-02-01                        2.0                NaN   \n",
       "2  1990-03-01                        1.8                NaN   \n",
       "3  1990-04-01                        1.9                NaN   \n",
       "4  1990-05-01                        2.1                NaN   \n",
       "5  1990-06-01                        2.5                NaN   \n",
       "6  1990-07-01                        2.5                NaN   \n",
       "7  1990-08-01                        2.6                NaN   \n",
       "8  1990-09-01                        2.8                NaN   \n",
       "9  1990-10-01                        2.8                NaN   \n",
       "10 1990-11-01                        3.0                NaN   \n",
       "11 1990-12-01                        2.9                NaN   \n",
       "12 1991-01-01                        3.0              86.18   \n",
       "13 1991-02-01                        3.3                NaN   \n",
       "14 1991-03-01                        3.2                NaN   \n",
       "15 1991-04-01                        3.0                NaN   \n",
       "16 1991-05-01                        3.3                NaN   \n",
       "17 1991-06-01                        3.5                NaN   \n",
       "18 1991-07-01                        3.3                NaN   \n",
       "19 1991-08-01                        3.3                NaN   \n",
       "\n",
       "   num_snap_recipients  gross_domestic_product  per_capita_personal_income  \\\n",
       "0                    .                     NaN                     32484.0   \n",
       "1                  NaN                     NaN                         NaN   \n",
       "2                  NaN                     NaN                         NaN   \n",
       "3                  NaN                     NaN                         NaN   \n",
       "4                  NaN                     NaN                         NaN   \n",
       "5                  NaN                     NaN                         NaN   \n",
       "6                  NaN                     NaN                         NaN   \n",
       "7                  NaN                     NaN                         NaN   \n",
       "8                  NaN                     NaN                         NaN   \n",
       "9                  NaN                     NaN                         NaN   \n",
       "10                 NaN                     NaN                         NaN   \n",
       "11                 NaN                     NaN                         NaN   \n",
       "12                   .                     NaN                     33294.0   \n",
       "13                 NaN                     NaN                         NaN   \n",
       "14                 NaN                     NaN                         NaN   \n",
       "15                 NaN                     NaN                         NaN   \n",
       "16                 NaN                     NaN                         NaN   \n",
       "17                 NaN                     NaN                         NaN   \n",
       "18                 NaN                     NaN                         NaN   \n",
       "19                 NaN                     NaN                         NaN   \n",
       "\n",
       "    percent_below_pl  \n",
       "0                NaN  \n",
       "1                NaN  \n",
       "2                NaN  \n",
       "3                NaN  \n",
       "4                NaN  \n",
       "5                NaN  \n",
       "6                NaN  \n",
       "7                NaN  \n",
       "8                NaN  \n",
       "9                NaN  \n",
       "10               NaN  \n",
       "11               NaN  \n",
       "12               NaN  \n",
       "13               NaN  \n",
       "14               NaN  \n",
       "15               NaN  \n",
       "16               NaN  \n",
       "17               NaN  \n",
       "18               NaN  \n",
       "19               NaN  "
      ]
     },
     "execution_count": 7,
     "metadata": {},
     "output_type": "execute_result"
    }
   ],
   "source": [
    "from functools import reduce\n",
    "data_frames = [df_data_0,df_data_1,df_data_2,df_data_3,df_data_4,df_data_5]\n",
    "master_data = reduce(lambda left,right: pd.merge(left,right,on=['date'],how='outer'), data_frames)\n",
    "master_data.head(20)"
   ]
  },
  {
   "cell_type": "code",
   "execution_count": 8,
   "metadata": {},
   "outputs": [
    {
     "data": {
      "text/html": [
       "<div>\n",
       "<style scoped>\n",
       "    .dataframe tbody tr th:only-of-type {\n",
       "        vertical-align: middle;\n",
       "    }\n",
       "\n",
       "    .dataframe tbody tr th {\n",
       "        vertical-align: top;\n",
       "    }\n",
       "\n",
       "    .dataframe thead th {\n",
       "        text-align: right;\n",
       "    }\n",
       "</style>\n",
       "<table border=\"1\" class=\"dataframe\">\n",
       "  <thead>\n",
       "    <tr style=\"text-align: right;\">\n",
       "      <th></th>\n",
       "      <th>date</th>\n",
       "      <th>unemployment_rate_percent</th>\n",
       "      <th>house_price_index</th>\n",
       "      <th>num_snap_recipients</th>\n",
       "      <th>gross_domestic_product</th>\n",
       "      <th>per_capita_personal_income</th>\n",
       "      <th>percent_below_pl</th>\n",
       "    </tr>\n",
       "  </thead>\n",
       "  <tbody>\n",
       "    <tr>\n",
       "      <th>264</th>\n",
       "      <td>2012-01-01</td>\n",
       "      <td>5.3</td>\n",
       "      <td>171.720</td>\n",
       "      <td>65586</td>\n",
       "      <td>7.828755e+07</td>\n",
       "      <td>76901.000000</td>\n",
       "      <td>6.500000</td>\n",
       "    </tr>\n",
       "    <tr>\n",
       "      <th>265</th>\n",
       "      <td>2012-02-01</td>\n",
       "      <td>5.4</td>\n",
       "      <td>172.235</td>\n",
       "      <td>NaN</td>\n",
       "      <td>7.824786e+07</td>\n",
       "      <td>76622.166667</td>\n",
       "      <td>6.516667</td>\n",
       "    </tr>\n",
       "    <tr>\n",
       "      <th>266</th>\n",
       "      <td>2012-03-01</td>\n",
       "      <td>5.2</td>\n",
       "      <td>172.750</td>\n",
       "      <td>NaN</td>\n",
       "      <td>7.820816e+07</td>\n",
       "      <td>76343.333333</td>\n",
       "      <td>6.533333</td>\n",
       "    </tr>\n",
       "    <tr>\n",
       "      <th>267</th>\n",
       "      <td>2012-04-01</td>\n",
       "      <td>4.9</td>\n",
       "      <td>173.265</td>\n",
       "      <td>NaN</td>\n",
       "      <td>7.816846e+07</td>\n",
       "      <td>76064.500000</td>\n",
       "      <td>6.550000</td>\n",
       "    </tr>\n",
       "    <tr>\n",
       "      <th>268</th>\n",
       "      <td>2012-05-01</td>\n",
       "      <td>5.2</td>\n",
       "      <td>173.780</td>\n",
       "      <td>NaN</td>\n",
       "      <td>7.812876e+07</td>\n",
       "      <td>75785.666667</td>\n",
       "      <td>6.566667</td>\n",
       "    </tr>\n",
       "  </tbody>\n",
       "</table>\n",
       "</div>"
      ],
      "text/plain": [
       "          date  unemployment_rate_percent  house_price_index  \\\n",
       "264 2012-01-01                        5.3            171.720   \n",
       "265 2012-02-01                        5.4            172.235   \n",
       "266 2012-03-01                        5.2            172.750   \n",
       "267 2012-04-01                        4.9            173.265   \n",
       "268 2012-05-01                        5.2            173.780   \n",
       "\n",
       "    num_snap_recipients  gross_domestic_product  per_capita_personal_income  \\\n",
       "264               65586            7.828755e+07                76901.000000   \n",
       "265                 NaN            7.824786e+07                76622.166667   \n",
       "266                 NaN            7.820816e+07                76343.333333   \n",
       "267                 NaN            7.816846e+07                76064.500000   \n",
       "268                 NaN            7.812876e+07                75785.666667   \n",
       "\n",
       "     percent_below_pl  \n",
       "264          6.500000  \n",
       "265          6.516667  \n",
       "266          6.533333  \n",
       "267          6.550000  \n",
       "268          6.566667  "
      ]
     },
     "execution_count": 8,
     "metadata": {},
     "output_type": "execute_result"
    }
   ],
   "source": [
    "from datetime import datetime\n",
    "master_data = master_data[master_data['date'] >= datetime(2012,1,1)]\n",
    "master_data = master_data.interpolate(method='linear', limit_direction='forward')\n",
    "master_data.head()"
   ]
  },
  {
   "cell_type": "markdown",
   "metadata": {},
   "source": [
    "You will also notice that the most limited time data is the percent below povery line data (post 2012).  As such, we will limit our master dataframe to this time range.  \n",
    "\n",
    "Although linear interpolation *may* not be the best choice, it is the most reasonable at this point in time. This is because it is the simplest possible method we have available for this process.  Right away, we see that SNAP beneficiaries did not interpolate, due to the limited amount of data.  As such, continuing to model with this parameter is likely not going to produce useful information.  At this point, we'll drop this feature with the knowledge it can be revisited at a later time, if more data becomes available. "
   ]
  },
  {
   "cell_type": "code",
   "execution_count": 9,
   "metadata": {},
   "outputs": [
    {
     "data": {
      "text/html": [
       "<div>\n",
       "<style scoped>\n",
       "    .dataframe tbody tr th:only-of-type {\n",
       "        vertical-align: middle;\n",
       "    }\n",
       "\n",
       "    .dataframe tbody tr th {\n",
       "        vertical-align: top;\n",
       "    }\n",
       "\n",
       "    .dataframe thead th {\n",
       "        text-align: right;\n",
       "    }\n",
       "</style>\n",
       "<table border=\"1\" class=\"dataframe\">\n",
       "  <thead>\n",
       "    <tr style=\"text-align: right;\">\n",
       "      <th></th>\n",
       "      <th>date</th>\n",
       "      <th>unemployment_rate_percent</th>\n",
       "      <th>house_price_index</th>\n",
       "      <th>gross_domestic_product</th>\n",
       "      <th>per_capita_personal_income</th>\n",
       "      <th>percent_below_pl</th>\n",
       "      <th>dt</th>\n",
       "    </tr>\n",
       "  </thead>\n",
       "  <tbody>\n",
       "    <tr>\n",
       "      <th>264</th>\n",
       "      <td>2012-01-01</td>\n",
       "      <td>5.3</td>\n",
       "      <td>171.720</td>\n",
       "      <td>7.828755e+07</td>\n",
       "      <td>76901.000000</td>\n",
       "      <td>6.500000</td>\n",
       "      <td>1325376000</td>\n",
       "    </tr>\n",
       "    <tr>\n",
       "      <th>265</th>\n",
       "      <td>2012-02-01</td>\n",
       "      <td>5.4</td>\n",
       "      <td>172.235</td>\n",
       "      <td>7.824786e+07</td>\n",
       "      <td>76622.166667</td>\n",
       "      <td>6.516667</td>\n",
       "      <td>1328054400</td>\n",
       "    </tr>\n",
       "    <tr>\n",
       "      <th>266</th>\n",
       "      <td>2012-03-01</td>\n",
       "      <td>5.2</td>\n",
       "      <td>172.750</td>\n",
       "      <td>7.820816e+07</td>\n",
       "      <td>76343.333333</td>\n",
       "      <td>6.533333</td>\n",
       "      <td>1330560000</td>\n",
       "    </tr>\n",
       "    <tr>\n",
       "      <th>267</th>\n",
       "      <td>2012-04-01</td>\n",
       "      <td>4.9</td>\n",
       "      <td>173.265</td>\n",
       "      <td>7.816846e+07</td>\n",
       "      <td>76064.500000</td>\n",
       "      <td>6.550000</td>\n",
       "      <td>1333238400</td>\n",
       "    </tr>\n",
       "    <tr>\n",
       "      <th>268</th>\n",
       "      <td>2012-05-01</td>\n",
       "      <td>5.2</td>\n",
       "      <td>173.780</td>\n",
       "      <td>7.812876e+07</td>\n",
       "      <td>75785.666667</td>\n",
       "      <td>6.566667</td>\n",
       "      <td>1335830400</td>\n",
       "    </tr>\n",
       "  </tbody>\n",
       "</table>\n",
       "</div>"
      ],
      "text/plain": [
       "          date  unemployment_rate_percent  house_price_index  \\\n",
       "264 2012-01-01                        5.3            171.720   \n",
       "265 2012-02-01                        5.4            172.235   \n",
       "266 2012-03-01                        5.2            172.750   \n",
       "267 2012-04-01                        4.9            173.265   \n",
       "268 2012-05-01                        5.2            173.780   \n",
       "\n",
       "     gross_domestic_product  per_capita_personal_income  percent_below_pl  \\\n",
       "264            7.828755e+07                76901.000000          6.500000   \n",
       "265            7.824786e+07                76622.166667          6.516667   \n",
       "266            7.820816e+07                76343.333333          6.533333   \n",
       "267            7.816846e+07                76064.500000          6.550000   \n",
       "268            7.812876e+07                75785.666667          6.566667   \n",
       "\n",
       "             dt  \n",
       "264  1325376000  \n",
       "265  1328054400  \n",
       "266  1330560000  \n",
       "267  1333238400  \n",
       "268  1335830400  "
      ]
     },
     "execution_count": 9,
     "metadata": {},
     "output_type": "execute_result"
    }
   ],
   "source": [
    "import time\n",
    "import numpy as np\n",
    "master_data = master_data.drop(columns = ['num_snap_recipients'])\n",
    "master_data['dt'] = pd.to_datetime(master_data['date'], unit='ms').astype(np.int64)//10**9\n",
    "master_data.head()"
   ]
  },
  {
   "cell_type": "markdown",
   "metadata": {},
   "source": [
    "So, now we have noramlized, interpolated, and cleaned data ready for use in a model. \n",
    "\n",
    "### Preparing the model\n",
    "\n",
    "For this model, since all the data is numerical instead of categorical, we will be developing a gradient boosted regressor model.  The goal is to see if we can rapidly develop a regression model that is somewhat accurate. "
   ]
  },
  {
   "cell_type": "code",
   "execution_count": 10,
   "metadata": {},
   "outputs": [
    {
     "name": "stderr",
     "output_type": "stream",
     "text": [
      "/opt/ibm/conda/miniconda3.6/lib/python3.6/site-packages/sklearn/model_selection/_search.py:841: DeprecationWarning: The default of the `iid` parameter will change from True to False in version 0.22 and will be removed in 0.24. This will change numeric results when test-set sizes are unequal.\n",
      "  DeprecationWarning)\n"
     ]
    },
    {
     "name": "stdout",
     "output_type": "stream",
     "text": [
      "0.3814188434800201 0.3814188434800201\n"
     ]
    }
   ],
   "source": [
    "from sklearn import ensemble\n",
    "from sklearn import linear_model\n",
    "from sklearn.model_selection import GridSearchCV\n",
    "from sklearn import preprocessing\n",
    "from sklearn.model_selection import train_test_split\n",
    "import sklearn.metrics as metrics\n",
    "from sklearn.metrics import median_absolute_error, make_scorer\n",
    "import matplotlib.pyplot as plt\n",
    "\n",
    "X_train,X_test,y_train,y_test = train_test_split(master_data.drop(['house_price_index','date'], axis=1), master_data.house_price_index, test_size=0.2, random_state=20)\n",
    "\n",
    "params = {\"n_estimators\":[300],\"max_depth\":[3], \"learning_rate\":[0.02],\"min_samples_split\":[2],\"loss\":['ls','lad']}\n",
    "model = ensemble.GradientBoostingRegressor()\n",
    "mae_scorer = make_scorer(median_absolute_error)\n",
    "clf = GridSearchCV(model, cv=3, param_grid=params, scoring=mae_scorer)\n",
    "\n",
    "pred = clf.fit(X_train,y_train)\n",
    "best = clf.best_estimator_\n",
    "print(median_absolute_error(y_test, clf.predict(X_test)), clf.score(X_test,y_test))"
   ]
  },
  {
   "cell_type": "markdown",
   "metadata": {},
   "source": [
    "So this particular model isn't very good at the start.  Let's check and see if it is at least getting better with time.  "
   ]
  },
  {
   "cell_type": "code",
   "execution_count": 11,
   "metadata": {},
   "outputs": [
    {
     "data": {
      "text/plain": [
       "Text(0, 0.5, 'Least Absolute Deviation')"
      ]
     },
     "execution_count": 11,
     "metadata": {},
     "output_type": "execute_result"
    },
    {
     "data": {
      "image/png": "[encoded data removed]",
      "text/plain": [
       "<Figure size 864x432 with 1 Axes>"
      ]
     },
     "metadata": {
      "needs_background": "light"
     },
     "output_type": "display_data"
    }
   ],
   "source": [
    "score= np.zeros(300, dtype=np.float64)\n",
    "train_score = best.train_score_\n",
    "for i, y_pred in enumerate(best.staged_predict(X_test)):\n",
    "    score[i] = best.loss_(y_test, y_pred)\n",
    "    \n",
    "plt.figure(figsize=(12,6))\n",
    "plt.subplot(1,2,1)\n",
    "plt.plot(np.arange(300), train_score, label='Training Error')\n",
    "plt.plot(np.arange(300), score, 'red', label = 'Test Error')\n",
    "plt.legend(loc='upper right')\n",
    "plt.xlabel('Iterations')\n",
    "plt.ylabel('Least Absolute Deviation')"
   ]
  },
  {
   "cell_type": "markdown",
   "metadata": {},
   "source": [
    "Based upon this, we are not getting much benefit out of additional iterations after about 200.  As a result, this model is probably not the optimal one to use. Let's take a look at what happens with some other models.  "
   ]
  },
  {
   "cell_type": "code",
   "execution_count": 12,
   "metadata": {},
   "outputs": [
    {
     "name": "stdout",
     "output_type": "stream",
     "text": [
      "LinearModel Score: 0.9906789850130757\n",
      "RidgeModel Score: 0.9894596165324064\n",
      "LassoModel Score: 0.989338332325738\n",
      "ElasticNetModel Score: 0.9893343438537892\n",
      "BayesRidgeModel Score: 0.9894275301098987\n",
      "OMPModel Score: 0.9704056113395044\n"
     ]
    },
    {
     "name": "stderr",
     "output_type": "stream",
     "text": [
      "/opt/ibm/conda/miniconda3.6/lib/python3.6/site-packages/sklearn/linear_model/ridge.py:125: LinAlgWarning: Ill-conditioned matrix (rcond=2.85505e-18): result may not be accurate.\n",
      "  overwrite_a=True).T\n",
      "/opt/ibm/conda/miniconda3.6/lib/python3.6/site-packages/sklearn/linear_model/coordinate_descent.py:492: ConvergenceWarning: Objective did not converge. You might want to increase the number of iterations. Fitting data with very small alpha may cause precision problems.\n",
      "  ConvergenceWarning)\n",
      "/opt/ibm/conda/miniconda3.6/lib/python3.6/site-packages/sklearn/linear_model/coordinate_descent.py:492: ConvergenceWarning: Objective did not converge. You might want to increase the number of iterations. Fitting data with very small alpha may cause precision problems.\n",
      "  ConvergenceWarning)\n"
     ]
    },
    {
     "data": {
      "text/plain": [
       "Text(0, 0.5, 'Median Absolute Error')"
      ]
     },
     "execution_count": 12,
     "metadata": {},
     "output_type": "execute_result"
    },
    {
     "data": {
      "image/png": "[encoded data removed]",
      "text/plain": [
       "<Figure size 504x360 with 1 Axes>"
      ]
     },
     "metadata": {
      "needs_background": "light"
     },
     "output_type": "display_data"
    }
   ],
   "source": [
    "estimators = [ linear_model.LinearRegression(), linear_model.Ridge(),\n",
    "        linear_model.Lasso(), linear_model.ElasticNet(),\n",
    "        linear_model.BayesianRidge(), linear_model.OrthogonalMatchingPursuit() ]\n",
    "\n",
    "estimator_labels = np.array(['Linear', 'Ridge', 'Lasso', 'ElasticNet', 'BayesRidge', 'OMP'])\n",
    "errvals = np.array([])\n",
    "\n",
    "for i,e in enumerate(estimators):\n",
    "    e.fit(X_train, y_train)\n",
    "    print(estimator_labels[i] + 'Model Score: '+str(e.score(X_test,y_test)))\n",
    "    this_err = metrics.median_absolute_error(y_test, e.predict(X_test))\n",
    "    #print \"got error %0.2f\" % this_err\n",
    "    errvals = np.append(errvals, this_err)\n",
    "\n",
    "pos = np.arange(errvals.shape[0])\n",
    "srt = np.argsort(errvals)\n",
    "plt.figure(figsize=(7,5))\n",
    "plt.bar(pos, errvals[srt], align='center')\n",
    "plt.xticks(pos, estimator_labels[srt])\n",
    "plt.xlabel('Estimator')\n",
    "plt.ylabel('Median Absolute Error')"
   ]
  },
  {
   "cell_type": "markdown",
   "metadata": {},
   "source": [
    "Alright, so our linear model has the best score and the best median absolute error.  Simple is always a good starting place, right?  Let's go with it and see how it works."
   ]
  },
  {
   "cell_type": "code",
   "execution_count": 13,
   "metadata": {},
   "outputs": [
    {
     "name": "stdout",
     "output_type": "stream",
     "text": [
      "Linear Model Mean Absolute Error : 0.9555277108855478\n"
     ]
    },
    {
     "name": "stderr",
     "output_type": "stream",
     "text": [
      "/opt/ibm/conda/miniconda3.6/lib/python3.6/site-packages/sklearn/model_selection/_search.py:841: DeprecationWarning: The default of the `iid` parameter will change from True to False in version 0.22 and will be removed in 0.24. This will change numeric results when test-set sizes are unequal.\n",
      "  DeprecationWarning)\n"
     ]
    }
   ],
   "source": [
    "parameters = {'fit_intercept':[True,False], 'normalize':[True,False], 'copy_X':[True, False]}\n",
    "model = linear_model.LinearRegression()\n",
    "mae_scorer = make_scorer(median_absolute_error)\n",
    "clf = GridSearchCV(model, cv=3, param_grid=parameters, scoring=mae_scorer)\n",
    "\n",
    "pred = clf.fit(X_train,y_train)\n",
    "best = clf.best_estimator_\n",
    "print('Linear Model Mean Absolute Error : '+str(median_absolute_error(y_test, clf.predict(X_test))))"
   ]
  },
  {
   "cell_type": "markdown",
   "metadata": {},
   "source": [
    "So, our linear model is doing reasonably well with the data we have.  Let's take a look and see what factors may not impact the model, so we can simplify and, ideally, drop some terms."
   ]
  },
  {
   "cell_type": "code",
   "execution_count": 23,
   "metadata": {},
   "outputs": [
    {
     "name": "stdout",
     "output_type": "stream",
     "text": [
      "unemployment_rate_percent Dropped Model Score: 0.9905705871676262\n",
      "gross_domestic_product Dropped Model Score: 0.9878318482996493\n",
      "per_capita_personal_income Dropped Model Score: 0.9891908561392543\n",
      "percent_below_pl Dropped Model Score: 0.9889821587770303\n",
      "dt Dropped Model Score: 0.9856085631025456\n"
     ]
    },
    {
     "data": {
      "text/plain": [
       "Text(0, 0.5, 'Median Absolute Error')"
      ]
     },
     "execution_count": 23,
     "metadata": {},
     "output_type": "execute_result"
    },
    {
     "data": {
      "image/png": "[encoded data removed]",
      "text/plain": [
       "<Figure size 504x360 with 1 Axes>"
      ]
     },
     "metadata": {
      "needs_background": "light"
     },
     "output_type": "display_data"
    }
   ],
   "source": [
    "features_to_drop = ['unemployment_rate_percent','gross_domestic_product','per_capita_personal_income','percent_below_pl','dt']\n",
    "errvals = np.array([])\n",
    "model1 = linear_model.LinearRegression()\n",
    "for i,e in enumerate(features_to_drop):\n",
    "    X_train,X_test,y_train,y_test = train_test_split(master_data.drop(['house_price_index','date',e], axis=1), master_data.house_price_index, test_size=0.2, random_state=20)\n",
    "    model1.fit(X_train, y_train)\n",
    "    print(features_to_drop[i] + ' Dropped Model Score: '+str(model1.score(X_test,y_test)))\n",
    "    this_err = metrics.median_absolute_error(y_test, model1.predict(X_test))\n",
    "    errvals = np.append(errvals, this_err)\n",
    "\n",
    "pos = np.arange(errvals.shape[0])\n",
    "srt = np.argsort(errvals)\n",
    "plt.figure(figsize=(7,5))\n",
    "plt.bar(pos, errvals[srt], align='center')\n",
    "plt.xticks(pos, features_to_drop, rotation=45)\n",
    "plt.xlabel('Dropped Feature')\n",
    "plt.ylabel('Median Absolute Error')"
   ]
  },
  {
   "cell_type": "markdown",
   "metadata": {},
   "source": [
    "The result of this check shows that, while dropping features does not alter the model performance, the strongest impact appears to be from the unemployment rate, followed by the gross domestic product.  As a result, we probably would recommend that these four features remain components of the model for now.  The addition of other metrics may or may not alter the outcome, but for now, it seems that we have a reasonable first model that does a decent job in replicating the housing price index for Montgomery county.  Just to make sure we have the  final model made, we will rerun the linear model with all features and look at the regression results. "
   ]
  },
  {
   "cell_type": "code",
   "execution_count": 39,
   "metadata": {},
   "outputs": [
    {
     "name": "stdout",
     "output_type": "stream",
     "text": [
      "y= -52.24955674872513 + 0.7627121843414646 * unemployment_rate + 0.7627121843414646 * gross_domestic_product +\n",
      " 1.4996707015545441e-06 * per_capita_income + -0.001010927248618522 * percent_below_povertyline + 11.440074067171585 * dt (utc time stamp)\n",
      "Score: 0.9906789850130757\n",
      "Median Absolute Error: 1.0453041705168005\n"
     ]
    }
   ],
   "source": [
    "X_train,X_test,y_train,y_test = train_test_split(master_data.drop(['house_price_index','date'], axis=1), master_data.house_price_index, test_size=0.2, random_state=20)\n",
    "model = linear_model.LinearRegression()\n",
    "model.fit(X_train,y_train)\n",
    "print('y= '+str(model.intercept_)+' + {} * unemployment_rate + {} * gross_domestic_product +\\n {} * per_capita_income + {} * percent_below_povertyline + {} * dt (utc time stamp)'.format(model.coef_[0],model.coef_[0],model.coef_[1],model.coef_[2],model.coef_[3],model.coef_[4]))\n",
    "print('Score: '+str(model.score(X_test,y_test)))\n",
    "print('Median Absolute Error: '+str(metrics.median_absolute_error(y_test, model.predict(X_test))))"
   ]
  },
  {
   "cell_type": "code",
   "execution_count": 40,
   "metadata": {},
   "outputs": [],
   "source": [
    "def fit_model(ur, gdp, pci, ppl, dt):\n",
    "    return model.intercept_+model.coef_[0]*ur+model.coef_[1]*gdp+model.coef_[2]*pci+model.coef_[3]*ppl+model.coef_[4]*dt"
   ]
  },
  {
   "cell_type": "code",
   "execution_count": 50,
   "metadata": {},
   "outputs": [
    {
     "data": {
      "text/plain": [
       "Text(0, 0.5, 'House Price Index \\n (2000 = 100)')"
      ]
     },
     "execution_count": 50,
     "metadata": {},
     "output_type": "execute_result"
    },
    {
     "data": {
      "image/png": "[encoded data removed]",
      "text/plain": [
       "<Figure size 504x360 with 1 Axes>"
      ]
     },
     "metadata": {
      "needs_background": "light"
     },
     "output_type": "display_data"
    }
   ],
   "source": [
    "\n",
    "plt.figure(figsize=(7,5))\n",
    "plt.scatter(master_data['date'],master_data['house_price_index'], color='purple')\n",
    "plt.plot(master_data['date'], fit_model(master_data['unemployment_rate_percent'],master_data['gross_domestic_product'],master_data['per_capita_personal_income'],master_data['percent_below_pl'],master_data['dt']) + 0., color='blue')\n",
    "plt.xlabel('Year', fontsize=18)\n",
    "plt.ylabel('House Price Index \\n (2000 = 100)',fontsize=18)"
   ]
  },
  {
   "cell_type": "markdown",
   "metadata": {},
   "source": [
    "This last plot shows our model in blue against the \n",
    "\n",
    "### Summary\n",
    "\n",
    "In conclusion, we have developed a first stage model for predicting the housing price index for Montgomery County, MD.  Several regression models were evaluated for use, with the final model being a Linear model composed of four independent features: Unemployment Rate, Gross Domestic Product, Per Capita Personal Income, and Percent below the Poverty Line.  While these features may seem linked (e.g. Per Capita Personal Income is likely correlated with the Percent below the Poverty Line), the fact that they may be influenced by each other does not mean that they are covariant at a level we would need to consider dropping one over the other.  \n",
    "\n",
    "Over the range from 2012 - 2019, Montgomery County government would be best served by attempting to decrease the unemployment rate and boost the gross domestic product, if their aim is to increase the housing price index for the county.  In the future, new metrics could be added to the mix, or the model could be targeted more at specific neighborhoods.  Some examples of the former include crime rate, education levels, school quality, and traffic levels.  For the latter, features relevant to the specific neighborhood would be necessary, which may not be directly available for all of the features employed here."
   ]
  },
  {
   "cell_type": "markdown",
   "metadata": {},
   "source": [
    "### Citations\n",
    "- U.S. Census Bureau, SNAP Benefits Recipients in Montgomery County, MD [CBR24031MDA647NCEN], retrieved from FRED, Federal Reserve Bank of St. Louis; https://fred.stlouisfed.org/series/CBR24031MDA647NCEN, January 6, 2020.\n",
    "- U.S. Census Bureau, Percent of Population Below the Poverty Level in Montgomery County, MD [S1701ACS024031], retrieved from FRED, Federal Reserve Bank of St. Louis; https://fred.stlouisfed.org/series/S1701ACS024031, January 6, 2020.\n",
    "- U.S. Bureau of Economic Analysis, Per Capita Personal Income in Montgomery County, MD [PCPI24031], retrieved from FRED, Federal Reserve Bank of St. Louis; https://fred.stlouisfed.org/series/PCPI24031, January 6, 2020.\n",
    "- U.S. Bureau of Economic Analysis, Gross Domestic Product: All Industries in Montgomery County, MD [GDPALL24031], retrieved from FRED, Federal Reserve Bank of St. Louis; https://fred.stlouisfed.org/series/GDPALL24031, January 6, 2020.\n",
    "- U.S. Bureau of Economic Analysis, Gross Domestic Product: All Industries in Montgomery County, MD [GDPALL24031], retrieved from FRED, Federal Reserve Bank of St. Louis; https://fred.stlouisfed.org/series/GDPALL24031, January 6, 2020.\n",
    "- U.S. Federal Housing Finance Agency, All-Transactions House Price Index for Montgomery County, MD [ATNHPIUS24031A], retrieved from FRED, Federal Reserve Bank of St. Louis; https://fred.stlouisfed.org/series/ATNHPIUS24031A, January 6, 2020.\n"
   ]
  }
 ],
 "metadata": {
  "kernelspec": {
   "display_name": "Python 3.6 with Spark",
   "language": "python3",
   "name": "python36"
  },
  "language_info": {
   "codemirror_mode": {
    "name": "ipython",
    "version": 3
   },
   "file_extension": ".py",
   "mimetype": "text/x-python",
   "name": "python",
   "nbconvert_exporter": "python",
   "pygments_lexer": "ipython3",
   "version": "3.6.8"
  }
 },
 "nbformat": 4,
 "nbformat_minor": 1
}
